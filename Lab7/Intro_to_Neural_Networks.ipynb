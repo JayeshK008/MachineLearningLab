{
  "cells": [
    {
      "cell_type": "markdown",
      "metadata": {
        "id": "YpI-JXKUgRn5"
      },
      "source": [
        "# Linear Models using neural networks"
      ]
    },
    {
      "cell_type": "code",
      "execution_count": 181,
      "metadata": {
        "colab": {
          "base_uri": "https://localhost:8080/",
          "height": 206
        },
        "id": "__4jfHcDdzE3",
        "outputId": "3fc21f57-f526-44fc-dfb5-851698570fb4"
      },
      "outputs": [
        {
          "data": {
            "application/vnd.google.colaboratory.intrinsic+json": {
              "summary": "{\n  \"name\": \"data\",\n  \"rows\": 100,\n  \"fields\": [\n    {\n      \"column\": \"area\",\n      \"properties\": {\n        \"dtype\": \"number\",\n        \"std\": 505.7319987260428,\n        \"min\": 809.387599110124,\n        \"max\": 2477.707792220879,\n        \"num_unique_values\": 100,\n        \"samples\": [\n          908.0491954862401,\n          2321.206495727003,\n          2112.8161078043177\n        ],\n        \"semantic_type\": \"\",\n        \"description\": \"\"\n      }\n    },\n    {\n      \"column\": \"bedrooms\",\n      \"properties\": {\n        \"dtype\": \"number\",\n        \"std\": 1,\n        \"min\": 1,\n        \"max\": 4,\n        \"num_unique_values\": 4,\n        \"samples\": [\n          4,\n          2,\n          3\n        ],\n        \"semantic_type\": \"\",\n        \"description\": \"\"\n      }\n    },\n    {\n      \"column\": \"age\",\n      \"properties\": {\n        \"dtype\": \"number\",\n        \"std\": 8,\n        \"min\": 18,\n        \"max\": 44,\n        \"num_unique_values\": 25,\n        \"samples\": [\n          21,\n          33,\n          18\n        ],\n        \"semantic_type\": \"\",\n        \"description\": \"\"\n      }\n    },\n    {\n      \"column\": \"price\",\n      \"properties\": {\n        \"dtype\": \"number\",\n        \"std\": 25328.42511540798,\n        \"min\": 40128.61512758339,\n        \"max\": 123103.67100738514,\n        \"num_unique_values\": 100,\n        \"samples\": [\n          44634.04014174384,\n          115530.58050939608,\n          105195.41869515553\n        ],\n        \"semantic_type\": \"\",\n        \"description\": \"\"\n      }\n    }\n  ]\n}",
              "type": "dataframe",
              "variable_name": "data"
            },
            "text/html": [
              "\n",
              "  <div id=\"df-1eba8c94-27a2-4f43-9325-52eff3f083e0\" class=\"colab-df-container\">\n",
              "    <div>\n",
              "<style scoped>\n",
              "    .dataframe tbody tr th:only-of-type {\n",
              "        vertical-align: middle;\n",
              "    }\n",
              "\n",
              "    .dataframe tbody tr th {\n",
              "        vertical-align: top;\n",
              "    }\n",
              "\n",
              "    .dataframe thead th {\n",
              "        text-align: right;\n",
              "    }\n",
              "</style>\n",
              "<table border=\"1\" class=\"dataframe\">\n",
              "  <thead>\n",
              "    <tr style=\"text-align: right;\">\n",
              "      <th></th>\n",
              "      <th>area</th>\n",
              "      <th>bedrooms</th>\n",
              "      <th>age</th>\n",
              "      <th>price</th>\n",
              "    </tr>\n",
              "  </thead>\n",
              "  <tbody>\n",
              "    <tr>\n",
              "      <th>0</th>\n",
              "      <td>1436.718202</td>\n",
              "      <td>3</td>\n",
              "      <td>18</td>\n",
              "      <td>71542.637261</td>\n",
              "    </tr>\n",
              "    <tr>\n",
              "      <th>1</th>\n",
              "      <td>2416.214321</td>\n",
              "      <td>4</td>\n",
              "      <td>18</td>\n",
              "      <td>120537.094743</td>\n",
              "    </tr>\n",
              "    <tr>\n",
              "      <th>2</th>\n",
              "      <td>2044.389701</td>\n",
              "      <td>3</td>\n",
              "      <td>36</td>\n",
              "      <td>101555.192591</td>\n",
              "    </tr>\n",
              "    <tr>\n",
              "      <th>3</th>\n",
              "      <td>1817.719423</td>\n",
              "      <td>1</td>\n",
              "      <td>19</td>\n",
              "      <td>90482.563753</td>\n",
              "    </tr>\n",
              "    <tr>\n",
              "      <th>4</th>\n",
              "      <td>1065.231689</td>\n",
              "      <td>4</td>\n",
              "      <td>38</td>\n",
              "      <td>52515.293158</td>\n",
              "    </tr>\n",
              "  </tbody>\n",
              "</table>\n",
              "</div>\n",
              "    <div class=\"colab-df-buttons\">\n",
              "\n",
              "  <div class=\"colab-df-container\">\n",
              "    <button class=\"colab-df-convert\" onclick=\"convertToInteractive('df-1eba8c94-27a2-4f43-9325-52eff3f083e0')\"\n",
              "            title=\"Convert this dataframe to an interactive table.\"\n",
              "            style=\"display:none;\">\n",
              "\n",
              "  <svg xmlns=\"http://www.w3.org/2000/svg\" height=\"24px\" viewBox=\"0 -960 960 960\">\n",
              "    <path d=\"M120-120v-720h720v720H120Zm60-500h600v-160H180v160Zm220 220h160v-160H400v160Zm0 220h160v-160H400v160ZM180-400h160v-160H180v160Zm440 0h160v-160H620v160ZM180-180h160v-160H180v160Zm440 0h160v-160H620v160Z\"/>\n",
              "  </svg>\n",
              "    </button>\n",
              "\n",
              "  <style>\n",
              "    .colab-df-container {\n",
              "      display:flex;\n",
              "      gap: 12px;\n",
              "    }\n",
              "\n",
              "    .colab-df-convert {\n",
              "      background-color: #E8F0FE;\n",
              "      border: none;\n",
              "      border-radius: 50%;\n",
              "      cursor: pointer;\n",
              "      display: none;\n",
              "      fill: #1967D2;\n",
              "      height: 32px;\n",
              "      padding: 0 0 0 0;\n",
              "      width: 32px;\n",
              "    }\n",
              "\n",
              "    .colab-df-convert:hover {\n",
              "      background-color: #E2EBFA;\n",
              "      box-shadow: 0px 1px 2px rgba(60, 64, 67, 0.3), 0px 1px 3px 1px rgba(60, 64, 67, 0.15);\n",
              "      fill: #174EA6;\n",
              "    }\n",
              "\n",
              "    .colab-df-buttons div {\n",
              "      margin-bottom: 4px;\n",
              "    }\n",
              "\n",
              "    [theme=dark] .colab-df-convert {\n",
              "      background-color: #3B4455;\n",
              "      fill: #D2E3FC;\n",
              "    }\n",
              "\n",
              "    [theme=dark] .colab-df-convert:hover {\n",
              "      background-color: #434B5C;\n",
              "      box-shadow: 0px 1px 3px 1px rgba(0, 0, 0, 0.15);\n",
              "      filter: drop-shadow(0px 1px 2px rgba(0, 0, 0, 0.3));\n",
              "      fill: #FFFFFF;\n",
              "    }\n",
              "  </style>\n",
              "\n",
              "    <script>\n",
              "      const buttonEl =\n",
              "        document.querySelector('#df-1eba8c94-27a2-4f43-9325-52eff3f083e0 button.colab-df-convert');\n",
              "      buttonEl.style.display =\n",
              "        google.colab.kernel.accessAllowed ? 'block' : 'none';\n",
              "\n",
              "      async function convertToInteractive(key) {\n",
              "        const element = document.querySelector('#df-1eba8c94-27a2-4f43-9325-52eff3f083e0');\n",
              "        const dataTable =\n",
              "          await google.colab.kernel.invokeFunction('convertToInteractive',\n",
              "                                                    [key], {});\n",
              "        if (!dataTable) return;\n",
              "\n",
              "        const docLinkHtml = 'Like what you see? Visit the ' +\n",
              "          '<a target=\"_blank\" href=https://colab.research.google.com/notebooks/data_table.ipynb>data table notebook</a>'\n",
              "          + ' to learn more about interactive tables.';\n",
              "        element.innerHTML = '';\n",
              "        dataTable['output_type'] = 'display_data';\n",
              "        await google.colab.output.renderOutput(dataTable, element);\n",
              "        const docLink = document.createElement('div');\n",
              "        docLink.innerHTML = docLinkHtml;\n",
              "        element.appendChild(docLink);\n",
              "      }\n",
              "    </script>\n",
              "  </div>\n",
              "\n",
              "\n",
              "    <div id=\"df-ba30ca55-9eb2-46a8-b24e-26958edb6d47\">\n",
              "      <button class=\"colab-df-quickchart\" onclick=\"quickchart('df-ba30ca55-9eb2-46a8-b24e-26958edb6d47')\"\n",
              "                title=\"Suggest charts\"\n",
              "                style=\"display:none;\">\n",
              "\n",
              "<svg xmlns=\"http://www.w3.org/2000/svg\" height=\"24px\"viewBox=\"0 0 24 24\"\n",
              "     width=\"24px\">\n",
              "    <g>\n",
              "        <path d=\"M19 3H5c-1.1 0-2 .9-2 2v14c0 1.1.9 2 2 2h14c1.1 0 2-.9 2-2V5c0-1.1-.9-2-2-2zM9 17H7v-7h2v7zm4 0h-2V7h2v10zm4 0h-2v-4h2v4z\"/>\n",
              "    </g>\n",
              "</svg>\n",
              "      </button>\n",
              "\n",
              "<style>\n",
              "  .colab-df-quickchart {\n",
              "      --bg-color: #E8F0FE;\n",
              "      --fill-color: #1967D2;\n",
              "      --hover-bg-color: #E2EBFA;\n",
              "      --hover-fill-color: #174EA6;\n",
              "      --disabled-fill-color: #AAA;\n",
              "      --disabled-bg-color: #DDD;\n",
              "  }\n",
              "\n",
              "  [theme=dark] .colab-df-quickchart {\n",
              "      --bg-color: #3B4455;\n",
              "      --fill-color: #D2E3FC;\n",
              "      --hover-bg-color: #434B5C;\n",
              "      --hover-fill-color: #FFFFFF;\n",
              "      --disabled-bg-color: #3B4455;\n",
              "      --disabled-fill-color: #666;\n",
              "  }\n",
              "\n",
              "  .colab-df-quickchart {\n",
              "    background-color: var(--bg-color);\n",
              "    border: none;\n",
              "    border-radius: 50%;\n",
              "    cursor: pointer;\n",
              "    display: none;\n",
              "    fill: var(--fill-color);\n",
              "    height: 32px;\n",
              "    padding: 0;\n",
              "    width: 32px;\n",
              "  }\n",
              "\n",
              "  .colab-df-quickchart:hover {\n",
              "    background-color: var(--hover-bg-color);\n",
              "    box-shadow: 0 1px 2px rgba(60, 64, 67, 0.3), 0 1px 3px 1px rgba(60, 64, 67, 0.15);\n",
              "    fill: var(--button-hover-fill-color);\n",
              "  }\n",
              "\n",
              "  .colab-df-quickchart-complete:disabled,\n",
              "  .colab-df-quickchart-complete:disabled:hover {\n",
              "    background-color: var(--disabled-bg-color);\n",
              "    fill: var(--disabled-fill-color);\n",
              "    box-shadow: none;\n",
              "  }\n",
              "\n",
              "  .colab-df-spinner {\n",
              "    border: 2px solid var(--fill-color);\n",
              "    border-color: transparent;\n",
              "    border-bottom-color: var(--fill-color);\n",
              "    animation:\n",
              "      spin 1s steps(1) infinite;\n",
              "  }\n",
              "\n",
              "  @keyframes spin {\n",
              "    0% {\n",
              "      border-color: transparent;\n",
              "      border-bottom-color: var(--fill-color);\n",
              "      border-left-color: var(--fill-color);\n",
              "    }\n",
              "    20% {\n",
              "      border-color: transparent;\n",
              "      border-left-color: var(--fill-color);\n",
              "      border-top-color: var(--fill-color);\n",
              "    }\n",
              "    30% {\n",
              "      border-color: transparent;\n",
              "      border-left-color: var(--fill-color);\n",
              "      border-top-color: var(--fill-color);\n",
              "      border-right-color: var(--fill-color);\n",
              "    }\n",
              "    40% {\n",
              "      border-color: transparent;\n",
              "      border-right-color: var(--fill-color);\n",
              "      border-top-color: var(--fill-color);\n",
              "    }\n",
              "    60% {\n",
              "      border-color: transparent;\n",
              "      border-right-color: var(--fill-color);\n",
              "    }\n",
              "    80% {\n",
              "      border-color: transparent;\n",
              "      border-right-color: var(--fill-color);\n",
              "      border-bottom-color: var(--fill-color);\n",
              "    }\n",
              "    90% {\n",
              "      border-color: transparent;\n",
              "      border-bottom-color: var(--fill-color);\n",
              "    }\n",
              "  }\n",
              "</style>\n",
              "\n",
              "      <script>\n",
              "        async function quickchart(key) {\n",
              "          const quickchartButtonEl =\n",
              "            document.querySelector('#' + key + ' button');\n",
              "          quickchartButtonEl.disabled = true;  // To prevent multiple clicks.\n",
              "          quickchartButtonEl.classList.add('colab-df-spinner');\n",
              "          try {\n",
              "            const charts = await google.colab.kernel.invokeFunction(\n",
              "                'suggestCharts', [key], {});\n",
              "          } catch (error) {\n",
              "            console.error('Error during call to suggestCharts:', error);\n",
              "          }\n",
              "          quickchartButtonEl.classList.remove('colab-df-spinner');\n",
              "          quickchartButtonEl.classList.add('colab-df-quickchart-complete');\n",
              "        }\n",
              "        (() => {\n",
              "          let quickchartButtonEl =\n",
              "            document.querySelector('#df-ba30ca55-9eb2-46a8-b24e-26958edb6d47 button');\n",
              "          quickchartButtonEl.style.display =\n",
              "            google.colab.kernel.accessAllowed ? 'block' : 'none';\n",
              "        })();\n",
              "      </script>\n",
              "    </div>\n",
              "\n",
              "    </div>\n",
              "  </div>\n"
            ],
            "text/plain": [
              "          area  bedrooms  age          price\n",
              "0  1436.718202         3   18   71542.637261\n",
              "1  2416.214321         4   18  120537.094743\n",
              "2  2044.389701         3   36  101555.192591\n",
              "3  1817.719423         1   19   90482.563753\n",
              "4  1065.231689         4   38   52515.293158"
            ]
          },
          "execution_count": 181,
          "metadata": {},
          "output_type": "execute_result"
        }
      ],
      "source": [
        "# for tutorial, we will be creating our own dataset, for exercise we will use an actual one\n",
        "import torch\n",
        "import torch.nn as nn\n",
        "import torch.optim as optim\n",
        "import pandas as pd\n",
        "import numpy as np\n",
        "import matplotlib.pyplot as plt\n",
        "\n",
        "\n",
        "torch.manual_seed(42)\n",
        "np.random.seed(42)\n",
        "\n",
        "n = 100\n",
        "area = np.random.uniform(800, 2500, n)\n",
        "bedrooms = np.random.randint(1, 5, n)\n",
        "age = np.random.randint(18, 45, n)\n",
        "\n",
        "\n",
        "price = 50 * area + 10 * bedrooms - 20 * age + np.random.normal(0, 35, n)\n",
        "\n",
        "data = pd.DataFrame({'area': area, 'bedrooms': bedrooms, 'age': age, 'price': price})\n",
        "data.head()\n"
      ]
    },
    {
      "cell_type": "markdown",
      "metadata": {
        "id": "W7JYQkEPhFH6"
      },
      "source": [
        "A linear model tries to learn:\n",
        "\n",
        "price=w1xarea + w2xbedrooms + w3xage+ b\n",
        "\n",
        "Each input feature gets its own weight.\n",
        "The model's job is to find the best weights and bias that minimize prediction error."
      ]
    },
    {
      "cell_type": "code",
      "execution_count": 182,
      "metadata": {
        "id": "WSuJKgAxgrmi"
      },
      "outputs": [],
      "source": [
        "X = torch.tensor(data[['area', 'bedrooms', 'age']].values, dtype=torch.float32)\n",
        "y = torch.tensor(data[['price']].values, dtype=torch.float32)\n",
        "#There are 3 features, so the input shape for each example is [3]."
      ]
    },
    {
      "cell_type": "code",
      "execution_count": 193,
      "metadata": {
        "colab": {
          "base_uri": "https://localhost:8080/"
        },
        "id": "8sOobL4vhace",
        "outputId": "29bb08d4-aaa3-4ba5-e23f-199068c9a35e"
      },
      "outputs": [
        {
          "name": "stdout",
          "output_type": "stream",
          "text": [
            "Linear(in_features=3, out_features=1, bias=True)\n"
          ]
        }
      ],
      "source": [
        "model = nn.Linear(in_features=3, out_features=1)\n",
        "print(model)\n"
      ]
    },
    {
      "cell_type": "code",
      "execution_count": 194,
      "metadata": {
        "id": "svH-MDDxiPnI"
      },
      "outputs": [],
      "source": [
        "criterion = nn.L1Loss()  # Mean Absolute Error\n",
        "optimizer = optim.Adam(model.parameters(), lr=0.1)# try different lr, like 0.01 to 2.0\n"
      ]
    },
    {
      "cell_type": "code",
      "execution_count": 214,
      "metadata": {
        "colab": {
          "base_uri": "https://localhost:8080/"
        },
        "id": "iCrsyHgJiVk5",
        "outputId": "76919d1e-e717-4606-fbfd-3a695671c09a"
      },
      "outputs": [
        {
          "name": "stdout",
          "output_type": "stream",
          "text": [
            "Epoch [20/100], Loss: 29.24\n",
            "Epoch [40/100], Loss: 29.13\n",
            "Epoch [60/100], Loss: 29.05\n",
            "Epoch [80/100], Loss: 28.99\n",
            "Epoch [100/100], Loss: 28.98\n"
          ]
        }
      ],
      "source": [
        "epochs = 100\n",
        "#try different training step and see how parmeters come close\n",
        "# what is shown down is after chaning epochs and lr, in different combinations\n",
        "for epoch in range(epochs):\n",
        "    optimizer.zero_grad()\n",
        "    outputs = model(X)\n",
        "    loss = criterion(outputs, y)\n",
        "    loss.backward()\n",
        "    optimizer.step()\n",
        "\n",
        "    if (epoch+1) % 20 == 0:\n",
        "        print(f'Epoch [{epoch+1}/{epochs}], Loss: {loss.item():.2f}')\n"
      ]
    },
    {
      "cell_type": "markdown",
      "metadata": {
        "id": "YBQ7D35QjN8H"
      },
      "source": [
        "## lets see what it learned"
      ]
    },
    {
      "cell_type": "code",
      "execution_count": 216,
      "metadata": {
        "colab": {
          "base_uri": "https://localhost:8080/"
        },
        "id": "OTI98Z7qiapE",
        "outputId": "b2d78b6a-5660-4d3a-b727-d77d55036618"
      },
      "outputs": [
        {
          "name": "stdout",
          "output_type": "stream",
          "text": [
            "weight tensor([[ 50.0058,   3.1983, -19.9636]])\n",
            "bias tensor([8.7458])\n"
          ]
        }
      ],
      "source": [
        "for name, param in model.named_parameters():\n",
        "    print(name, param.data)\n"
      ]
    },
    {
      "cell_type": "code",
      "execution_count": 217,
      "metadata": {
        "colab": {
          "base_uri": "https://localhost:8080/"
        },
        "id": "smpVDhcKkV_i",
        "outputId": "7a610991-c68d-4368-d1f4-0f823209f25e"
      },
      "outputs": [
        {
          "name": "stdout",
          "output_type": "stream",
          "text": [
            "Test MSE: 29.1007\n"
          ]
        }
      ],
      "source": [
        "with torch.no_grad():\n",
        "    y_pred = model(X)\n",
        "test_loss = criterion(y_pred, y)\n",
        "print(f\"Test MSE: {test_loss.item():.4f}\")"
      ]
    },
    {
      "cell_type": "code",
      "execution_count": 218,
      "metadata": {
        "colab": {
          "base_uri": "https://localhost:8080/",
          "height": 472
        },
        "id": "tKPFQJ37jMtk",
        "outputId": "5ea22f9f-dfbf-4209-bacf-a86a8811d62e"
      },
      "outputs": [
        {
          "data": {
            "image/png": "[encoded data removed]",
            "text/plain": [
              "<Figure size 640x480 with 1 Axes>"
            ]
          },
          "metadata": {},
          "output_type": "display_data"
        }
      ],
      "source": [
        "with torch.no_grad():\n",
        "    y_pred = model(X)\n",
        "\n",
        "plt.figure(dpi=100)\n",
        "plt.scatter(y, y_pred, alpha=0.7)\n",
        "plt.xlabel(\"Actual Price\")\n",
        "plt.ylabel(\"Predicted Price\")\n",
        "plt.title(\"Linear Model Predictions\")\n",
        "plt.show()\n",
        "# why linear and diagonal?"
      ]
    },
    {
      "cell_type": "markdown",
      "metadata": {
        "id": "8WSIz8BFkmvj"
      },
      "source": [
        "# what we did above was a single layer lets make it deep"
      ]
    },
    {
      "cell_type": "code",
      "execution_count": 270,
      "metadata": {
        "colab": {
          "base_uri": "https://localhost:8080/",
          "height": 206
        },
        "id": "xdlFS30_onU6",
        "outputId": "b031d901-7aa9-4123-b402-67668bb75235"
      },
      "outputs": [
        {
          "data": {
            "application/vnd.google.colaboratory.intrinsic+json": {
              "summary": "{\n  \"name\": \"data\",\n  \"rows\": 100,\n  \"fields\": [\n    {\n      \"column\": \"area\",\n      \"properties\": {\n        \"dtype\": \"number\",\n        \"std\": 505.7319987260428,\n        \"min\": 809.387599110124,\n        \"max\": 2477.707792220879,\n        \"num_unique_values\": 100,\n        \"samples\": [\n          908.0491954862401,\n          2321.206495727003,\n          2112.8161078043177\n        ],\n        \"semantic_type\": \"\",\n        \"description\": \"\"\n      }\n    },\n    {\n      \"column\": \"bedrooms\",\n      \"properties\": {\n        \"dtype\": \"number\",\n        \"std\": 1,\n        \"min\": 1,\n        \"max\": 4,\n        \"num_unique_values\": 4,\n        \"samples\": [\n          4,\n          2,\n          3\n        ],\n        \"semantic_type\": \"\",\n        \"description\": \"\"\n      }\n    },\n    {\n      \"column\": \"age\",\n      \"properties\": {\n        \"dtype\": \"number\",\n        \"std\": 8,\n        \"min\": 18,\n        \"max\": 44,\n        \"num_unique_values\": 25,\n        \"samples\": [\n          21,\n          33,\n          18\n        ],\n        \"semantic_type\": \"\",\n        \"description\": \"\"\n      }\n    },\n    {\n      \"column\": \"price\",\n      \"properties\": {\n        \"dtype\": \"number\",\n        \"std\": 25527.36567541723,\n        \"min\": 38572.44419571854,\n        \"max\": 120902.94563731125,\n        \"num_unique_values\": 100,\n        \"samples\": [\n          42664.076174652284,\n          114614.34113479524,\n          104280.11809087271\n        ],\n        \"semantic_type\": \"\",\n        \"description\": \"\"\n      }\n    }\n  ]\n}",
              "type": "dataframe",
              "variable_name": "data"
            },
            "text/html": [
              "\n",
              "  <div id=\"df-8702cd7b-648c-4e3c-b35e-a87fe840f5d7\" class=\"colab-df-container\">\n",
              "    <div>\n",
              "<style scoped>\n",
              "    .dataframe tbody tr th:only-of-type {\n",
              "        vertical-align: middle;\n",
              "    }\n",
              "\n",
              "    .dataframe tbody tr th {\n",
              "        vertical-align: top;\n",
              "    }\n",
              "\n",
              "    .dataframe thead th {\n",
              "        text-align: right;\n",
              "    }\n",
              "</style>\n",
              "<table border=\"1\" class=\"dataframe\">\n",
              "  <thead>\n",
              "    <tr style=\"text-align: right;\">\n",
              "      <th></th>\n",
              "      <th>area</th>\n",
              "      <th>bedrooms</th>\n",
              "      <th>age</th>\n",
              "      <th>price</th>\n",
              "    </tr>\n",
              "  </thead>\n",
              "  <tbody>\n",
              "    <tr>\n",
              "      <th>0</th>\n",
              "      <td>1436.718202</td>\n",
              "      <td>3</td>\n",
              "      <td>18</td>\n",
              "      <td>71176.342569</td>\n",
              "    </tr>\n",
              "    <tr>\n",
              "      <th>1</th>\n",
              "      <td>2416.214321</td>\n",
              "      <td>4</td>\n",
              "      <td>18</td>\n",
              "      <td>120177.903243</td>\n",
              "    </tr>\n",
              "    <tr>\n",
              "      <th>2</th>\n",
              "      <td>2044.389701</td>\n",
              "      <td>3</td>\n",
              "      <td>36</td>\n",
              "      <td>99633.934487</td>\n",
              "    </tr>\n",
              "    <tr>\n",
              "      <th>3</th>\n",
              "      <td>1817.719423</td>\n",
              "      <td>1</td>\n",
              "      <td>19</td>\n",
              "      <td>90178.045193</td>\n",
              "    </tr>\n",
              "    <tr>\n",
              "      <th>4</th>\n",
              "      <td>1065.231689</td>\n",
              "      <td>4</td>\n",
              "      <td>38</td>\n",
              "      <td>50419.381283</td>\n",
              "    </tr>\n",
              "  </tbody>\n",
              "</table>\n",
              "</div>\n",
              "    <div class=\"colab-df-buttons\">\n",
              "\n",
              "  <div class=\"colab-df-container\">\n",
              "    <button class=\"colab-df-convert\" onclick=\"convertToInteractive('df-8702cd7b-648c-4e3c-b35e-a87fe840f5d7')\"\n",
              "            title=\"Convert this dataframe to an interactive table.\"\n",
              "            style=\"display:none;\">\n",
              "\n",
              "  <svg xmlns=\"http://www.w3.org/2000/svg\" height=\"24px\" viewBox=\"0 -960 960 960\">\n",
              "    <path d=\"M120-120v-720h720v720H120Zm60-500h600v-160H180v160Zm220 220h160v-160H400v160Zm0 220h160v-160H400v160ZM180-400h160v-160H180v160Zm440 0h160v-160H620v160ZM180-180h160v-160H180v160Zm440 0h160v-160H620v160Z\"/>\n",
              "  </svg>\n",
              "    </button>\n",
              "\n",
              "  <style>\n",
              "    .colab-df-container {\n",
              "      display:flex;\n",
              "      gap: 12px;\n",
              "    }\n",
              "\n",
              "    .colab-df-convert {\n",
              "      background-color: #E8F0FE;\n",
              "      border: none;\n",
              "      border-radius: 50%;\n",
              "      cursor: pointer;\n",
              "      display: none;\n",
              "      fill: #1967D2;\n",
              "      height: 32px;\n",
              "      padding: 0 0 0 0;\n",
              "      width: 32px;\n",
              "    }\n",
              "\n",
              "    .colab-df-convert:hover {\n",
              "      background-color: #E2EBFA;\n",
              "      box-shadow: 0px 1px 2px rgba(60, 64, 67, 0.3), 0px 1px 3px 1px rgba(60, 64, 67, 0.15);\n",
              "      fill: #174EA6;\n",
              "    }\n",
              "\n",
              "    .colab-df-buttons div {\n",
              "      margin-bottom: 4px;\n",
              "    }\n",
              "\n",
              "    [theme=dark] .colab-df-convert {\n",
              "      background-color: #3B4455;\n",
              "      fill: #D2E3FC;\n",
              "    }\n",
              "\n",
              "    [theme=dark] .colab-df-convert:hover {\n",
              "      background-color: #434B5C;\n",
              "      box-shadow: 0px 1px 3px 1px rgba(0, 0, 0, 0.15);\n",
              "      filter: drop-shadow(0px 1px 2px rgba(0, 0, 0, 0.3));\n",
              "      fill: #FFFFFF;\n",
              "    }\n",
              "  </style>\n",
              "\n",
              "    <script>\n",
              "      const buttonEl =\n",
              "        document.querySelector('#df-8702cd7b-648c-4e3c-b35e-a87fe840f5d7 button.colab-df-convert');\n",
              "      buttonEl.style.display =\n",
              "        google.colab.kernel.accessAllowed ? 'block' : 'none';\n",
              "\n",
              "      async function convertToInteractive(key) {\n",
              "        const element = document.querySelector('#df-8702cd7b-648c-4e3c-b35e-a87fe840f5d7');\n",
              "        const dataTable =\n",
              "          await google.colab.kernel.invokeFunction('convertToInteractive',\n",
              "                                                    [key], {});\n",
              "        if (!dataTable) return;\n",
              "\n",
              "        const docLinkHtml = 'Like what you see? Visit the ' +\n",
              "          '<a target=\"_blank\" href=https://colab.research.google.com/notebooks/data_table.ipynb>data table notebook</a>'\n",
              "          + ' to learn more about interactive tables.';\n",
              "        element.innerHTML = '';\n",
              "        dataTable['output_type'] = 'display_data';\n",
              "        await google.colab.output.renderOutput(dataTable, element);\n",
              "        const docLink = document.createElement('div');\n",
              "        docLink.innerHTML = docLinkHtml;\n",
              "        element.appendChild(docLink);\n",
              "      }\n",
              "    </script>\n",
              "  </div>\n",
              "\n",
              "\n",
              "    <div id=\"df-647d1e0d-d82e-41bf-9747-aadeec7dcafc\">\n",
              "      <button class=\"colab-df-quickchart\" onclick=\"quickchart('df-647d1e0d-d82e-41bf-9747-aadeec7dcafc')\"\n",
              "                title=\"Suggest charts\"\n",
              "                style=\"display:none;\">\n",
              "\n",
              "<svg xmlns=\"http://www.w3.org/2000/svg\" height=\"24px\"viewBox=\"0 0 24 24\"\n",
              "     width=\"24px\">\n",
              "    <g>\n",
              "        <path d=\"M19 3H5c-1.1 0-2 .9-2 2v14c0 1.1.9 2 2 2h14c1.1 0 2-.9 2-2V5c0-1.1-.9-2-2-2zM9 17H7v-7h2v7zm4 0h-2V7h2v10zm4 0h-2v-4h2v4z\"/>\n",
              "    </g>\n",
              "</svg>\n",
              "      </button>\n",
              "\n",
              "<style>\n",
              "  .colab-df-quickchart {\n",
              "      --bg-color: #E8F0FE;\n",
              "      --fill-color: #1967D2;\n",
              "      --hover-bg-color: #E2EBFA;\n",
              "      --hover-fill-color: #174EA6;\n",
              "      --disabled-fill-color: #AAA;\n",
              "      --disabled-bg-color: #DDD;\n",
              "  }\n",
              "\n",
              "  [theme=dark] .colab-df-quickchart {\n",
              "      --bg-color: #3B4455;\n",
              "      --fill-color: #D2E3FC;\n",
              "      --hover-bg-color: #434B5C;\n",
              "      --hover-fill-color: #FFFFFF;\n",
              "      --disabled-bg-color: #3B4455;\n",
              "      --disabled-fill-color: #666;\n",
              "  }\n",
              "\n",
              "  .colab-df-quickchart {\n",
              "    background-color: var(--bg-color);\n",
              "    border: none;\n",
              "    border-radius: 50%;\n",
              "    cursor: pointer;\n",
              "    display: none;\n",
              "    fill: var(--fill-color);\n",
              "    height: 32px;\n",
              "    padding: 0;\n",
              "    width: 32px;\n",
              "  }\n",
              "\n",
              "  .colab-df-quickchart:hover {\n",
              "    background-color: var(--hover-bg-color);\n",
              "    box-shadow: 0 1px 2px rgba(60, 64, 67, 0.3), 0 1px 3px 1px rgba(60, 64, 67, 0.15);\n",
              "    fill: var(--button-hover-fill-color);\n",
              "  }\n",
              "\n",
              "  .colab-df-quickchart-complete:disabled,\n",
              "  .colab-df-quickchart-complete:disabled:hover {\n",
              "    background-color: var(--disabled-bg-color);\n",
              "    fill: var(--disabled-fill-color);\n",
              "    box-shadow: none;\n",
              "  }\n",
              "\n",
              "  .colab-df-spinner {\n",
              "    border: 2px solid var(--fill-color);\n",
              "    border-color: transparent;\n",
              "    border-bottom-color: var(--fill-color);\n",
              "    animation:\n",
              "      spin 1s steps(1) infinite;\n",
              "  }\n",
              "\n",
              "  @keyframes spin {\n",
              "    0% {\n",
              "      border-color: transparent;\n",
              "      border-bottom-color: var(--fill-color);\n",
              "      border-left-color: var(--fill-color);\n",
              "    }\n",
              "    20% {\n",
              "      border-color: transparent;\n",
              "      border-left-color: var(--fill-color);\n",
              "      border-top-color: var(--fill-color);\n",
              "    }\n",
              "    30% {\n",
              "      border-color: transparent;\n",
              "      border-left-color: var(--fill-color);\n",
              "      border-top-color: var(--fill-color);\n",
              "      border-right-color: var(--fill-color);\n",
              "    }\n",
              "    40% {\n",
              "      border-color: transparent;\n",
              "      border-right-color: var(--fill-color);\n",
              "      border-top-color: var(--fill-color);\n",
              "    }\n",
              "    60% {\n",
              "      border-color: transparent;\n",
              "      border-right-color: var(--fill-color);\n",
              "    }\n",
              "    80% {\n",
              "      border-color: transparent;\n",
              "      border-right-color: var(--fill-color);\n",
              "      border-bottom-color: var(--fill-color);\n",
              "    }\n",
              "    90% {\n",
              "      border-color: transparent;\n",
              "      border-bottom-color: var(--fill-color);\n",
              "    }\n",
              "  }\n",
              "</style>\n",
              "\n",
              "      <script>\n",
              "        async function quickchart(key) {\n",
              "          const quickchartButtonEl =\n",
              "            document.querySelector('#' + key + ' button');\n",
              "          quickchartButtonEl.disabled = true;  // To prevent multiple clicks.\n",
              "          quickchartButtonEl.classList.add('colab-df-spinner');\n",
              "          try {\n",
              "            const charts = await google.colab.kernel.invokeFunction(\n",
              "                'suggestCharts', [key], {});\n",
              "          } catch (error) {\n",
              "            console.error('Error during call to suggestCharts:', error);\n",
              "          }\n",
              "          quickchartButtonEl.classList.remove('colab-df-spinner');\n",
              "          quickchartButtonEl.classList.add('colab-df-quickchart-complete');\n",
              "        }\n",
              "        (() => {\n",
              "          let quickchartButtonEl =\n",
              "            document.querySelector('#df-647d1e0d-d82e-41bf-9747-aadeec7dcafc button');\n",
              "          quickchartButtonEl.style.display =\n",
              "            google.colab.kernel.accessAllowed ? 'block' : 'none';\n",
              "        })();\n",
              "      </script>\n",
              "    </div>\n",
              "\n",
              "    </div>\n",
              "  </div>\n"
            ],
            "text/plain": [
              "          area  bedrooms  age          price\n",
              "0  1436.718202         3   18   71176.342569\n",
              "1  2416.214321         4   18  120177.903243\n",
              "2  2044.389701         3   36   99633.934487\n",
              "3  1817.719423         1   19   90178.045193\n",
              "4  1065.231689         4   38   50419.381283"
            ]
          },
          "execution_count": 270,
          "metadata": {},
          "output_type": "execute_result"
        }
      ],
      "source": [
        "price = (\n",
        "    50 * area\n",
        "    + 10 * bedrooms\n",
        "    - 2 * (age**2)  # nonlinear term\n",
        "    + np.random.normal(0, 20, n)\n",
        ")\n",
        "\n",
        "X = torch.tensor(np.column_stack([area, bedrooms, age]), dtype=torch.float32)\n",
        "y = torch.tensor(price.reshape(-1, 1), dtype=torch.float32)\n",
        "data = pd.DataFrame({'area': area, 'bedrooms': bedrooms, 'age': age, 'price': price})\n",
        "data.head()"
      ]
    },
    {
      "cell_type": "code",
      "execution_count": 266,
      "metadata": {
        "colab": {
          "base_uri": "https://localhost:8080/"
        },
        "id": "DjTA21z0kwLi",
        "outputId": "9296900e-d95a-40eb-a210-449f7511ccdb"
      },
      "outputs": [
        {
          "name": "stdout",
          "output_type": "stream",
          "text": [
            "DeepModel(\n",
            "  (net): Sequential(\n",
            "    (0): Linear(in_features=3, out_features=64, bias=True)\n",
            "    (1): ReLU()\n",
            "    (2): Linear(in_features=64, out_features=16, bias=True)\n",
            "    (3): ReLU()\n",
            "    (4): Linear(in_features=16, out_features=1, bias=True)\n",
            "  )\n",
            ")\n"
          ]
        }
      ],
      "source": [
        "class DeepModel(nn.Module):\n",
        "    def __init__(self):\n",
        "        super().__init__()\n",
        "        self.net = nn.Sequential(\n",
        "            nn.Linear(3, 64),\n",
        "            nn.ReLU(),\n",
        "            nn.Linear(64, 16),\n",
        "            nn.ReLU(),\n",
        "            nn.Linear(16, 1)\n",
        "        )\n",
        "\n",
        "    def forward(self, x):\n",
        "        return self.net(x)\n",
        "\n",
        "deep_model = DeepModel()\n",
        "print(deep_model)\n"
      ]
    },
    {
      "cell_type": "code",
      "execution_count": 267,
      "metadata": {
        "colab": {
          "base_uri": "https://localhost:8080/"
        },
        "id": "zNJdwNBckymd",
        "outputId": "a87faca4-e278-41d7-b17c-a59127820f86"
      },
      "outputs": [
        {
          "name": "stdout",
          "output_type": "stream",
          "text": [
            "Epoch [100/5000], Loss: 1607.72\n",
            "Epoch [200/5000], Loss: 1040.10\n",
            "Epoch [300/5000], Loss: 580.99\n",
            "Epoch [400/5000], Loss: 289.41\n",
            "Epoch [500/5000], Loss: 291.35\n",
            "Epoch [600/5000], Loss: 276.33\n",
            "Epoch [700/5000], Loss: 287.27\n",
            "Epoch [800/5000], Loss: 275.99\n",
            "Epoch [900/5000], Loss: 255.02\n",
            "Epoch [1000/5000], Loss: 256.38\n",
            "Epoch [1100/5000], Loss: 260.75\n",
            "Epoch [1200/5000], Loss: 237.50\n",
            "Epoch [1300/5000], Loss: 240.59\n",
            "Epoch [1400/5000], Loss: 234.18\n",
            "Epoch [1500/5000], Loss: 233.78\n",
            "Epoch [1600/5000], Loss: 231.07\n",
            "Epoch [1700/5000], Loss: 283.37\n",
            "Epoch [1800/5000], Loss: 239.28\n",
            "Epoch [1900/5000], Loss: 218.21\n",
            "Epoch [2000/5000], Loss: 272.78\n",
            "Epoch [2100/5000], Loss: 212.89\n",
            "Epoch [2200/5000], Loss: 210.87\n",
            "Epoch [2300/5000], Loss: 275.67\n",
            "Epoch [2400/5000], Loss: 203.89\n",
            "Epoch [2500/5000], Loss: 209.05\n",
            "Epoch [2600/5000], Loss: 200.90\n",
            "Epoch [2700/5000], Loss: 221.46\n",
            "Epoch [2800/5000], Loss: 194.27\n",
            "Epoch [2900/5000], Loss: 252.22\n",
            "Epoch [3000/5000], Loss: 196.64\n",
            "Epoch [3100/5000], Loss: 188.98\n",
            "Epoch [3200/5000], Loss: 185.71\n",
            "Epoch [3300/5000], Loss: 235.79\n",
            "Epoch [3400/5000], Loss: 177.75\n",
            "Epoch [3500/5000], Loss: 174.97\n",
            "Epoch [3600/5000], Loss: 195.48\n",
            "Epoch [3700/5000], Loss: 280.12\n",
            "Epoch [3800/5000], Loss: 238.05\n",
            "Epoch [3900/5000], Loss: 254.53\n",
            "Epoch [4000/5000], Loss: 221.00\n",
            "Epoch [4100/5000], Loss: 173.36\n",
            "Epoch [4200/5000], Loss: 202.39\n",
            "Epoch [4300/5000], Loss: 181.01\n",
            "Epoch [4400/5000], Loss: 184.91\n",
            "Epoch [4500/5000], Loss: 158.37\n",
            "Epoch [4600/5000], Loss: 156.65\n",
            "Epoch [4700/5000], Loss: 154.09\n",
            "Epoch [4800/5000], Loss: 173.33\n",
            "Epoch [4900/5000], Loss: 154.78\n",
            "Epoch [5000/5000], Loss: 309.31\n"
          ]
        }
      ],
      "source": [
        "criterion = nn.L1Loss()\n",
        "optimizer = optim.Adam(deep_model.parameters(), lr=0.01)\n",
        "\n",
        "epochs = 5000\n",
        "for epoch in range(epochs):\n",
        "    optimizer.zero_grad()\n",
        "    outputs = deep_model(X)\n",
        "    loss = criterion(outputs, y)\n",
        "    loss.backward()\n",
        "    optimizer.step()\n",
        "\n",
        "    if (epoch+1) % 100 == 0:\n",
        "        print(f'Epoch [{epoch+1}/{epochs}], Loss: {loss.item():.2f}')\n"
      ]
    },
    {
      "cell_type": "code",
      "execution_count": 272,
      "metadata": {
        "colab": {
          "base_uri": "https://localhost:8080/"
        },
        "id": "Abwgcl2AqtOk",
        "outputId": "3ff8766f-8fb7-4c5b-905f-73bc3ee2b226"
      },
      "outputs": [
        {
          "name": "stdout",
          "output_type": "stream",
          "text": [
            "net.0.weight tensor([[ 1.1017,  0.5396, -1.7177],\n",
            "        [-0.0566,  0.3144, -0.0133],\n",
            "        [-0.0391,  0.2573, -0.0818],\n",
            "        [-0.0505, -0.0483, -0.2489],\n",
            "        [-0.0768, -0.6151, -0.3602],\n",
            "        [-0.1682,  0.3347,  0.0707],\n",
            "        [-0.4615,  0.0202, -0.2106],\n",
            "        [-0.3612, -0.3641, -0.4786],\n",
            "        [ 0.6196,  1.0695, -1.4097],\n",
            "        [-0.4890,  0.5216,  0.2982],\n",
            "        [-0.5132,  0.3120,  0.4202],\n",
            "        [-0.4996,  0.0838, -0.0461],\n",
            "        [ 1.0459,  0.8857, -1.6172],\n",
            "        [-0.1360,  0.4949,  0.2906],\n",
            "        [-0.2729, -0.4146, -0.1158],\n",
            "        [-0.4683,  0.3753,  0.3255],\n",
            "        [-0.1060, -0.0073,  0.2003],\n",
            "        [-0.4615, -0.1740,  0.5143],\n",
            "        [ 0.9963,  0.8327, -2.1659],\n",
            "        [ 0.8345,  0.6886, -1.7788],\n",
            "        [-0.1944,  0.3596, -0.2090],\n",
            "        [-0.4999, -0.2447, -0.2041],\n",
            "        [-0.0901, -0.1319, -0.2180],\n",
            "        [ 1.0901,  1.0536, -1.2755],\n",
            "        [-0.3270, -0.1818, -0.4997],\n",
            "        [ 0.7989,  0.8505, -2.3657],\n",
            "        [-0.1582, -0.4688,  0.0042],\n",
            "        [ 0.8910,  0.9962, -1.6795],\n",
            "        [ 0.7224,  0.9215, -1.5112],\n",
            "        [-0.3183, -0.4350,  0.1238],\n",
            "        [-0.1216, -0.1793,  0.3722],\n",
            "        [ 0.5578,  1.1910, -2.3156],\n",
            "        [ 0.5543,  0.8208, -1.3794],\n",
            "        [-0.5185,  0.4140,  0.1272],\n",
            "        [-0.4915, -0.3373, -0.1142],\n",
            "        [ 0.9245,  0.8470, -1.6563],\n",
            "        [-0.1261,  0.2195, -0.3028],\n",
            "        [-0.4613, -0.1335,  0.0637],\n",
            "        [-0.0273,  0.1879,  0.4744],\n",
            "        [ 0.4607,  0.0256, -1.5328],\n",
            "        [ 0.8430,  0.0651, -1.5934],\n",
            "        [-0.1179, -0.4382,  0.0374],\n",
            "        [-0.2874, -0.3979,  0.3303],\n",
            "        [ 0.4524,  0.9587, -2.5053],\n",
            "        [ 1.1147,  0.4547, -1.3090],\n",
            "        [ 0.7832,  0.6859, -1.3258],\n",
            "        [-0.3793,  0.5662, -0.4327],\n",
            "        [ 1.0866,  0.6148, -1.2366],\n",
            "        [-0.4964, -0.5552, -0.4970],\n",
            "        [ 0.6204,  0.1735, -1.9301],\n",
            "        [ 0.9291,  0.3431, -1.7816],\n",
            "        [-0.1527, -0.2744, -0.2497],\n",
            "        [-0.5257,  0.1592,  0.3760],\n",
            "        [-0.2584, -0.3240,  0.0295],\n",
            "        [-0.0611,  0.5693,  0.5271],\n",
            "        [ 0.7411,  0.4449, -2.1547],\n",
            "        [ 0.5803,  0.0636, -1.7559],\n",
            "        [-0.1092, -0.5384,  0.2120],\n",
            "        [-0.3694, -0.0834, -0.1806],\n",
            "        [-0.5034,  0.0235,  0.3235],\n",
            "        [-0.4237, -0.0567,  0.1543],\n",
            "        [-0.5081,  0.4491, -0.4231],\n",
            "        [ 0.5399,  0.9861, -1.6203],\n",
            "        [-0.3083, -0.1363,  0.2786]])\n",
            "net.0.bias tensor([13.2599,  0.0492, -0.1159,  0.0870, -0.4625,  0.1364, -0.5552,  0.3243,\n",
            "        12.5552,  0.4124, -0.5715, -0.3605, 12.5233,  0.3426,  0.4756,  0.0275,\n",
            "        -0.3145, -0.1635, 13.6085, 13.3881,  0.3780,  0.1761,  0.2439, 13.0452,\n",
            "         0.2026, 13.6832,  0.0160, 13.5202, 12.8989, -0.4929, -0.3322, 13.5480,\n",
            "        13.0299,  0.3956,  0.1560, 13.6677,  0.4789, -0.1355, -0.3194, 12.9593,\n",
            "        13.4744, -0.3058, -0.0964, 12.9589, 12.6223, 13.5739,  0.1457, 13.0918,\n",
            "         0.2217, 13.6192, 13.3877, -0.2976,  0.0250, -0.3682,  0.0506, 13.6345,\n",
            "        12.8245, -0.0973, -0.5707,  0.3014, -0.1798,  0.5468, 12.6315, -0.0702])\n",
            "net.2.weight tensor([[ 0.1144, -0.0945, -0.1177,  ...,  0.0072, -0.0175, -0.0863],\n",
            "        [ 0.0296, -0.1016, -0.0291,  ..., -0.0155, -0.0548,  0.0150],\n",
            "        [ 0.7224,  0.0451, -0.0669,  ..., -0.0578,  0.6335,  0.0691],\n",
            "        ...,\n",
            "        [ 0.6510,  0.0521, -0.0529,  ..., -0.0105,  0.7839, -0.0816],\n",
            "        [-0.0676, -0.0521,  0.0062,  ..., -0.1032, -0.1486, -0.0177],\n",
            "        [ 0.7285,  0.0757,  0.0552,  ..., -0.0269,  0.5374,  0.0912]])\n",
            "net.2.bias tensor([ 0.1130, -0.0486, 12.8487, 12.7703, -0.1156, 12.6829,  0.0215, 12.7300,\n",
            "        -0.1172,  0.0346, -0.1911, -0.0988, 13.0126, 12.9609, -0.1571, 12.9001])\n",
            "net.4.weight tensor([[ 0.1146,  0.0342,  0.8481,  0.5833, -0.0762,  0.3661,  0.2073,  0.4634,\n",
            "          0.1900, -0.1242,  0.0603, -0.0102,  0.8441,  0.8515, -0.1304,  0.8373]])\n",
            "net.4.bias tensor([12.5003])\n"
          ]
        }
      ],
      "source": [
        "for name, param in deep_model.named_parameters():\n",
        "    print(name, param.data)\n"
      ]
    },
    {
      "cell_type": "code",
      "execution_count": 273,
      "metadata": {
        "colab": {
          "base_uri": "https://localhost:8080/"
        },
        "id": "2pR6YdHBqoxF",
        "outputId": "e1d4ea95-3259-4107-f9bb-eb539d27b186"
      },
      "outputs": [
        {
          "name": "stdout",
          "output_type": "stream",
          "text": [
            "Test MSE: 341.5756\n"
          ]
        }
      ],
      "source": [
        "with torch.no_grad():\n",
        "    y_pred = deep_model(X)\n",
        "test_loss = criterion(y_pred, y)\n",
        "print(f\"Test MSE: {test_loss.item():.4f}\")"
      ]
    },
    {
      "cell_type": "code",
      "execution_count": 268,
      "metadata": {
        "colab": {
          "base_uri": "https://localhost:8080/",
          "height": 472
        },
        "id": "QWCXqnPEk1D4",
        "outputId": "476256d2-d492-4f87-da07-73c11e54eb98"
      },
      "outputs": [
        {
          "data": {
            "image/png": "[encoded data removed]",
            "text/plain": [
              "<Figure size 640x480 with 1 Axes>"
            ]
          },
          "metadata": {},
          "output_type": "display_data"
        }
      ],
      "source": [
        "with torch.no_grad():\n",
        "    y_pred = deep_model(X)\n",
        "\n",
        "plt.figure(dpi=100)\n",
        "plt.scatter(y, y_pred, alpha=0.7)\n",
        "plt.xlabel(\"Actual Price\")\n",
        "plt.ylabel(\"Predicted Price\")\n",
        "plt.title(\"Deep Neural Network Predictions\")\n",
        "plt.show()\n"
      ]
    },
    {
      "cell_type": "markdown",
      "metadata": {
        "id": "4xI90BbVsMIa"
      },
      "source": [
        "# Exercise: Neural Network on Iris Dataset\n",
        "1. Iris dataset is already loaded for you, it  and check the shapes.\n",
        "2. Check if you need to preprocess the inputs (e.g., scaling).\n",
        "3. Split the data into training and test sets.\n",
        "4. Define a neural network appropriate for the task.\n",
        "5. Use a suitable loss function(crossentropyloss) and an optimizer.\n",
        "6. Train the model on the training set.\n",
        "7. Evaluate it on the test set and report accuracy."
      ]
    },
    {
      "cell_type": "code",
      "execution_count": 282,
      "metadata": {
        "id": "OR9_nDd0o_Qh"
      },
      "outputs": [],
      "source": [
        "from sklearn.datasets import load_iris\n",
        "iris = load_iris()\n",
        "X, y = iris.data, iris.target\n"
      ]
    },
    {
      "cell_type": "code",
      "execution_count": null,
      "metadata": {
        "id": "1f7Qh4pDuaf7"
      },
      "outputs": [],
      "source": []
    }
  ],
  "metadata": {
    "colab": {
      "provenance": []
    },
    "kernelspec": {
      "display_name": "Python 3",
      "name": "python3"
    },
    "language_info": {
      "name": "python"
    }
  },
  "nbformat": 4,
  "nbformat_minor": 0
}
