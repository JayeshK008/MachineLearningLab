{
  "nbformat": 4,
  "nbformat_minor": 0,
  "metadata": {
    "colab": {
      "provenance": []
    },
    "kernelspec": {
      "name": "python3",
      "display_name": "Python 3"
    },
    "language_info": {
      "name": "python"
    }
  },
  "cells": [
    {
      "cell_type": "code",
      "execution_count": 1,
      "metadata": {
        "id": "_XNYdaGvV8VX"
      },
      "outputs": [],
      "source": [
        "import pandas as pd\n",
        "import seaborn as sns\n",
        "from sklearn.model_selection import train_test_split\n",
        "from sklearn.tree import DecisionTreeClassifier, plot_tree\n",
        "from sklearn.metrics import accuracy_score, classification_report\n",
        "from sklearn.preprocessing import LabelEncoder\n",
        "import matplotlib.pyplot as plt\n",
        "\n",
        "# Load dataset\n",
        "df = sns.load_dataset('titanic')[['pclass', 'sex', 'age', 'sibsp', 'parch', 'fare', 'embarked', 'survived']]"
      ]
    },
    {
      "cell_type": "markdown",
      "source": [
        "In this assignment, you will work with a dataset loaded above.\n",
        "You will follow the given steps and complete the task using the concepts and we have learned.\n",
        "\n",
        "### **Steps to Complete**\n",
        "\n",
        "1. **Exploratory Data Analysis (EDA)**  \n",
        "   - Display the first few rows of the dataset.  \n",
        "   - Check the dataset’s shape, data types, and basic statistics.  \n",
        "   - Identify numerical and categorical features.  \n",
        "   - Visualize feature distributions using plots (e.g., histograms, boxplots, countplots).  \n",
        "\n",
        "2. **Handle Missing Values (if any)**  \n",
        "   - Check for missing values.  \n",
        "   - Decide whether to fill them (mean/median/mode) or drop rows/columns.  \n",
        "\n",
        "3. **Label Encode Categorical Columns**  \n",
        "   - Use `LabelEncoder` to convert categorical variables into numerical form.  \n",
        "\n",
        "4. **Split Data**  \n",
        "   - Split the dataset into **train** and **test** sets (e.g., 70%-30%).  \n",
        "\n",
        "5. **Train Two or More Decision Trees**  \n",
        "   - Train Decision Tree classifiers with **different depths** and/or **different feature subsets**.  \n",
        "   - Ensure you clearly label each model (e.g., `DT_depth3`, `DT_depth5`).  \n",
        "\n",
        "6. **Evaluation & Comparison**  \n",
        "   - Evaluate each Decision Tree on the **test set** using accuracy and confusion matrix.  \n",
        "   - Plot all Decision Trees you created and visually compare them.  \n",
        "   - Write your observation on which tree performs better and why.\n",
        "\n",
        "---\n"
      ],
      "metadata": {
        "id": "ts7I4ssxWFQK"
      }
    },
    {
      "cell_type": "code",
      "source": [],
      "metadata": {
        "id": "EKpK9K3wWCwr"
      },
      "execution_count": null,
      "outputs": []
    }
  ]
}